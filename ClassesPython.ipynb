{
  "cells": [
    {
      "cell_type": "markdown",
      "metadata": {
        "id": "gzMXQrb72DgT"
      },
      "source": [
        "Objects and Classes in Python"
      ]
    },
    {
      "cell_type": "markdown",
      "metadata": {
        "id": "C96pa5r1d_tA"
      },
      "source": [
        "The most general category is Shape"
      ]
    },
    {
      "cell_type": "markdown",
      "metadata": {
        "id": "e158ZTEMdQ5K"
      },
      "source": [
        "This notebook illustrates the basics of object oriented programming in Python through shapes."
      ]
    },
    {
      "cell_type": "code",
      "execution_count": 150,
      "metadata": {
        "id": "IYJib1wuda-5"
      },
      "outputs": [],
      "source": [
        "class Shape:               #base class\n",
        "  def __init__(self,x,y):  #constructor, initializes x, y\n",
        "    #attributes: x, y coordinates in 2D space\n",
        "    self.x = x\n",
        "    self.y = y\n",
        "  \n",
        "  def move(self, deltaX, deltaY): #method to move shape by adding delta\n",
        "    self.x =self.x + deltaX\n",
        "    self.y = self.y + deltaY"
      ]
    },
    {
      "cell_type": "markdown",
      "metadata": {
        "id": "5V3-L-XyeIEu"
      },
      "source": [
        "The next line says 'Square' inherits from 'Shape'"
      ]
    },
    {
      "cell_type": "code",
      "execution_count": 151,
      "metadata": {
        "id": "DrWW4kQHePTG"
      },
      "outputs": [],
      "source": [
        "class Square(Shape):       #subclass, inherits from shape\n",
        "  def __init__(self, side= 1, x = 0, y=0):   #constructor\n",
        "    Shape.__init__(self,x,y)   #initialize x, y (inherited) \n",
        "    self.side = side   # initialize side (lenght): default value 1, default coord (0,0)\n",
        "  \n",
        "  def area(self):      #method to caluculate area of square\n",
        "    return(self.side * self.side)"
      ]
    },
    {
      "cell_type": "markdown",
      "metadata": {
        "id": "GQu0zEYZepqE"
      },
      "source": [
        "Note that the subclass Square has to explicitly call the __init__ method of Shape"
      ]
    },
    {
      "cell_type": "markdown",
      "metadata": {
        "id": "kmTEG5wme39U"
      },
      "source": [
        "The code below says that Circle inherits from Shape"
      ]
    },
    {
      "cell_type": "code",
      "execution_count": 152,
      "metadata": {
        "id": "358kB0s4e_Hr"
      },
      "outputs": [],
      "source": [
        "class Circle(Shape):        #subclass of shape\n",
        "  allCircles = []  #list that stores all instances of circles\n",
        "  pi = 3.14159\n",
        "  def __init__(self, r = 1, x = 0, y = 0):  #constructor\n",
        "    Shape.__init__(self, x, y)    #initialize x, y, inherited\n",
        "    self.radius = r               #initialize raidius\n",
        "    self.__class__.allCircles.append(self) #adds instance to list\n",
        "\n",
        "  def area(self):         #area of circle method\n",
        "   return (self.pi * self.radius ** 2)"
      ]
    },
    {
      "cell_type": "markdown",
      "metadata": {
        "id": "8YoqrxoBfxzA"
      },
      "source": [
        "Now create some square and circle objects"
      ]
    },
    {
      "cell_type": "code",
      "execution_count": 153,
      "metadata": {
        "id": "XYulqTgbezcD"
      },
      "outputs": [
        {
          "name": "stdout",
          "output_type": "stream",
          "text": [
            "4\n"
          ]
        }
      ],
      "source": [
        "sq1 = Square(5, 7, 6)\n",
        "sq1 = Square(2, 2, 3)\n",
        "print(sq1.area())\n",
        "sq1.move(4,4)\n",
        "sq1.side\n",
        "sq1.x\n",
        "c1 = Circle(2, 4, 5)\n",
        "c2 = Circle(3, 4, 5)"
      ]
    },
    {
      "cell_type": "code",
      "execution_count": 154,
      "metadata": {
        "id": "hMAXTvx2kCs-"
      },
      "outputs": [
        {
          "data": {
            "text/plain": [
              "2"
            ]
          },
          "execution_count": 154,
          "metadata": {},
          "output_type": "execute_result"
        }
      ],
      "source": [
        "len(Circle.allCircles)"
      ]
    },
    {
      "cell_type": "code",
      "execution_count": 155,
      "metadata": {
        "id": "Pb7JKLRvOH2u"
      },
      "outputs": [
        {
          "data": {
            "text/plain": [
              "[<__main__.Circle at 0x1aefc567380>, <__main__.Circle at 0x1aefc568380>]"
            ]
          },
          "execution_count": 155,
          "metadata": {},
          "output_type": "execute_result"
        }
      ],
      "source": [
        "Circle.allCircles"
      ]
    },
    {
      "cell_type": "markdown",
      "metadata": {
        "id": "r3BKoOPIv4fs"
      },
      "source": [
        "Now add rectangle as a type of shape"
      ]
    },
    {
      "cell_type": "code",
      "execution_count": 156,
      "metadata": {
        "id": "I3ZW8Iljv9gk"
      },
      "outputs": [],
      "source": [
        "class Rectangle(Shape):        #subclass, inherits from shape\n",
        "  def __init__(self, side1= 1, side2=1, x = 0, y=0):  #constructor\n",
        "    Shape.__init__(self,x,y)   #inherited x, y\n",
        "    self.side1 = side1\n",
        "    self.side2 = side2\n",
        "\n",
        "  def area(self):       #area of rectangle method\n",
        "    return(self.side1 * self.side2)"
      ]
    },
    {
      "cell_type": "markdown",
      "metadata": {
        "id": "bQRMh9K-v_1F"
      },
      "source": [
        "Write methds to compute the area of circles and rectangles. Need to revise the class definitions to have these methods."
      ]
    },
    {
      "cell_type": "code",
      "execution_count": 157,
      "metadata": {
        "id": "6FvWxSBuwKuy"
      },
      "outputs": [
        {
          "name": "stdout",
          "output_type": "stream",
          "text": [
            "rec1 area = 3\n",
            "rec2 area = 8\n",
            "c1 area = 12.56636\n",
            "c2 area = 28.27431\n"
          ]
        }
      ],
      "source": [
        "rec1 = Rectangle(1, 3, 2, 5)\n",
        "rec2 = Rectangle(2, 4, 1, 2)\n",
        "\n",
        "print(f\"rec1 area = {rec1.area()}\")\n",
        "print(f\"rec2 area = {rec2.area()}\")\n",
        "print(f\"c1 area = {c1.area()}\")\n",
        "print(f\"c2 area = {c2.area()}\")"
      ]
    },
    {
      "cell_type": "markdown",
      "metadata": {
        "id": "lXQn-7iuwMLw"
      },
      "source": [
        "Now write a function to compute the area of all circles that have been created."
      ]
    },
    {
      "cell_type": "code",
      "execution_count": 158,
      "metadata": {
        "id": "uqaO-IW1wXjC"
      },
      "outputs": [
        {
          "name": "stdout",
          "output_type": "stream",
          "text": [
            "total circle area = 40.84067\n"
          ]
        }
      ],
      "source": [
        "def allAreas():\n",
        "    circAreas = []\n",
        "    for circle in Circle.allCircles:\n",
        "        circAreas.append(circle.area())\n",
        "    return sum(circAreas)\n",
        "\n",
        "totArea = allAreas()\n",
        "print(f\"total circle area = {totArea}\")"
      ]
    }
  ],
  "metadata": {
    "colab": {
      "private_outputs": true,
      "provenance": []
    },
    "kernelspec": {
      "display_name": "Python 3",
      "name": "python3"
    },
    "language_info": {
      "codemirror_mode": {
        "name": "ipython",
        "version": 3
      },
      "file_extension": ".py",
      "mimetype": "text/x-python",
      "name": "python",
      "nbconvert_exporter": "python",
      "pygments_lexer": "ipython3",
      "version": "3.12.6"
    }
  },
  "nbformat": 4,
  "nbformat_minor": 0
}
