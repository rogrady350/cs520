{
  "cells": [
    {
      "cell_type": "markdown",
      "metadata": {
        "id": "D7H7XePTxkGT"
      },
      "source": [
        "**Some Python Practice Problems**"
      ]
    },
    {
      "cell_type": "markdown",
      "metadata": {
        "id": "6XHFlz52jlTH"
      },
      "source": [
        "Function to test results"
      ]
    },
    {
      "cell_type": "code",
      "execution_count": 1,
      "metadata": {
        "id": "09EE2-7yjbQg"
      },
      "outputs": [],
      "source": [
        "def test(got, expected):\n",
        "  if got == expected:\n",
        "    prefix = ' OK '\n",
        "  else:\n",
        "    prefix = '  X '\n",
        "  print('%s got: %s expected: %s' % (prefix, repr(got), repr(expected)))\n"
      ]
    },
    {
      "cell_type": "markdown",
      "metadata": {
        "id": "0_DlPhrVxsUo"
      },
      "source": [
        "Given an int count of a number of donuts, return a string of the form 'Number of donuts: <count>', where <count> is the number passed in. However, if the count is 10 or more, then use the word 'many' instead of the actual count.\n",
        "So donuts(5) returns 'Number of donuts: 5' and donuts(23) returns 'Number of donuts: many'\n"
      ]
    },
    {
      "cell_type": "code",
      "execution_count": 2,
      "metadata": {
        "id": "WOQRBUYexDOW"
      },
      "outputs": [],
      "source": [
        "def donuts(count):\n",
        " if count < 10:\n",
        "   amount = str(count)\n",
        " else:\n",
        "   amount = \"many\"\n",
        " statement = f\"Number of donuts: {amount}\"\n",
        " return statement"
      ]
    },
    {
      "cell_type": "markdown",
      "metadata": {
        "id": "gzMXQrb72DgT"
      },
      "source": [
        "Now Test your code on a couple of examples:\n"
      ]
    },
    {
      "cell_type": "code",
      "execution_count": 3,
      "metadata": {
        "id": "2F5TuuNC2diO"
      },
      "outputs": [
        {
          "name": "stdout",
          "output_type": "stream",
          "text": [
            " OK  got: 'Number of donuts: 4' expected: 'Number of donuts: 4'\n",
            " OK  got: 'Number of donuts: 9' expected: 'Number of donuts: 9'\n",
            " OK  got: 'Number of donuts: many' expected: 'Number of donuts: many'\n",
            " OK  got: 'Number of donuts: many' expected: 'Number of donuts: many'\n"
          ]
        }
      ],
      "source": [
        "test(donuts(4), 'Number of donuts: 4')\n",
        "test(donuts(9), 'Number of donuts: 9')\n",
        "test(donuts(10), 'Number of donuts: many')\n",
        "test(donuts(99), 'Number of donuts: many')"
      ]
    },
    {
      "cell_type": "markdown",
      "metadata": {
        "id": "XAFQNBoP2ekp"
      },
      "source": [
        "Given a list of strings, return the count of the number of strings where the string length is 2 or more and the first and last chars of the string are the same"
      ]
    },
    {
      "cell_type": "code",
      "execution_count": 4,
      "metadata": {
        "id": "qfrcLltD28_K"
      },
      "outputs": [],
      "source": [
        "def match_ends(words):\n",
        "  count = 0\n",
        "  for word in words:\n",
        "    if len(word)>=2 and word[0]==word[-1]:\n",
        "      count +=1\n",
        "  return count"
      ]
    },
    {
      "cell_type": "markdown",
      "metadata": {
        "id": "loR-XzDc3JE-"
      },
      "source": [
        "Now test your solution\n"
      ]
    },
    {
      "cell_type": "code",
      "execution_count": 5,
      "metadata": {
        "id": "zpfsrjry3S2Q"
      },
      "outputs": [
        {
          "name": "stdout",
          "output_type": "stream",
          "text": [
            " OK  got: 3 expected: 3\n",
            " OK  got: 2 expected: 2\n",
            " OK  got: 1 expected: 1\n"
          ]
        }
      ],
      "source": [
        "test(match_ends(['aba', 'xyz', 'aa', 'x', 'bbb']), 3)\n",
        "test(match_ends(['', 'x', 'xy', 'xyx', 'xx']), 2)\n",
        "test(match_ends(['aaa', 'be', 'abc', 'hello']), 1)\n"
      ]
    },
    {
      "cell_type": "markdown",
      "metadata": {
        "id": "ujRghDmthvtq"
      },
      "source": [
        " Given a string s, return a string\n",
        "where all occurences of its first char have\n",
        "been changed to '*', except do not change\n",
        "the first char itself.\n",
        "e.g. 'babble' yields 'ba***le'\n",
        "Assume that the string is length 1 or more.\n",
        "Hint: s.replace(stra, strb) returns a version of string s\n",
        "where all instances of stra have been replaced by strb.\n"
      ]
    },
    {
      "cell_type": "code",
      "execution_count": 6,
      "metadata": {
        "id": "Pe1PNZ8AiXXR"
      },
      "outputs": [],
      "source": [
        "def fix_start(s):\n",
        "  repString = s.replace(s[0],\"*\")\n",
        "  s2 = s[0] + repString[1:]\n",
        "  return s2\n"
      ]
    },
    {
      "cell_type": "markdown",
      "metadata": {
        "id": "SIN_uBMZixtI"
      },
      "source": [
        "Now test your solution"
      ]
    },
    {
      "cell_type": "code",
      "execution_count": 7,
      "metadata": {
        "id": "MW3iC33Ki52v"
      },
      "outputs": [
        {
          "name": "stdout",
          "output_type": "stream",
          "text": [
            " OK  got: 'ba**le' expected: 'ba**le'\n",
            " OK  got: 'a*rdv*rk' expected: 'a*rdv*rk'\n",
            " OK  got: 'goo*le' expected: 'goo*le'\n",
            " OK  got: 'donut' expected: 'donut'\n"
          ]
        }
      ],
      "source": [
        "test(fix_start('babble'), 'ba**le')\n",
        "test(fix_start('aardvark'), 'a*rdv*rk')\n",
        "test(fix_start('google'), 'goo*le')\n",
        "test(fix_start('donut'), 'donut')\n"
      ]
    },
    {
      "cell_type": "markdown",
      "metadata": {
        "id": "mHsyuJV-qdw8"
      },
      "source": [
        "Write a function that takes a list of strings as an argument and prints out each string and the number of times it occcurs in the list. Hint: Use a dictionary."
      ]
    },
    {
      "cell_type": "code",
      "execution_count": 8,
      "metadata": {
        "id": "gPpruqRhq4tl"
      },
      "outputs": [],
      "source": [
        "def count(strLst):\n",
        "    wordCount = {}\n",
        "\n",
        "    for word in strLst:\n",
        "        if word in wordCount:\n",
        "            wordCount[word] += 1\n",
        "        else:\n",
        "            wordCount[word] = 1\n",
        "\n",
        "    return wordCount"
      ]
    },
    {
      "cell_type": "markdown",
      "metadata": {
        "id": "defmfeUsrCz9"
      },
      "source": [
        "Now try a couple of examples."
      ]
    },
    {
      "cell_type": "code",
      "execution_count": 9,
      "metadata": {
        "id": "qiK-WjHHrG2a"
      },
      "outputs": [
        {
          "name": "stdout",
          "output_type": "stream",
          "text": [
            "{'one': 2, 'two': 2, 'four': 1, 'five': 1}\n",
            "{'Trump': 2, 'Harris': 3, 'Vance': 1, 'Waltz': 1}\n"
          ]
        }
      ],
      "source": [
        "l1 = ['one', 'two', 'two', 'four', 'five', 'one']\n",
        "l2 = ['Trump', 'Harris', 'Harris', 'Trump', 'Vance','Waltz', 'Harris']\n",
        "\n",
        "print(count(l1))\n",
        "print(count(l2))\n"
      ]
    }
  ],
  "metadata": {
    "colab": {
      "private_outputs": true,
      "provenance": []
    },
    "kernelspec": {
      "display_name": "Python 3",
      "name": "python3"
    },
    "language_info": {
      "codemirror_mode": {
        "name": "ipython",
        "version": 3
      },
      "file_extension": ".py",
      "mimetype": "text/x-python",
      "name": "python",
      "nbconvert_exporter": "python",
      "pygments_lexer": "ipython3",
      "version": "3.12.6"
    }
  },
  "nbformat": 4,
  "nbformat_minor": 0
}
